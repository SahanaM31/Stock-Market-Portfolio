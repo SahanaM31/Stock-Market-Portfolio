{
 "cells": [
  {
   "cell_type": "code",
   "execution_count": 3,
   "id": "eddc77ab",
   "metadata": {},
   "outputs": [
    {
     "name": "stdout",
     "output_type": "stream",
     "text": [
      "Requirement already satisfied: yfinance in c:\\users\\sahana\\anaconda3\\lib\\site-packages (0.2.40)Note: you may need to restart the kernel to use updated packages.\n",
      "Requirement already satisfied: platformdirs>=2.0.0 in c:\\users\\sahana\\anaconda3\\lib\\site-packages (from yfinance) (4.2.2)\n",
      "\n",
      "Requirement already satisfied: lxml>=4.9.1 in c:\\users\\sahana\\anaconda3\\lib\\site-packages (from yfinance) (5.2.2)\n",
      "Requirement already satisfied: frozendict>=2.3.4 in c:\\users\\sahana\\anaconda3\\lib\\site-packages (from yfinance) (2.4.4)\n",
      "Requirement already satisfied: multitasking>=0.0.7 in c:\\users\\sahana\\anaconda3\\lib\\site-packages (from yfinance) (0.0.11)\n",
      "Requirement already satisfied: peewee>=3.16.2 in c:\\users\\sahana\\anaconda3\\lib\\site-packages (from yfinance) (3.17.6)\n",
      "Requirement already satisfied: numpy>=1.16.5 in c:\\users\\sahana\\anaconda3\\lib\\site-packages (from yfinance) (1.21.5)\n",
      "Requirement already satisfied: requests>=2.31 in c:\\users\\sahana\\anaconda3\\lib\\site-packages (from yfinance) (2.32.3)\n",
      "Requirement already satisfied: html5lib>=1.1 in c:\\users\\sahana\\anaconda3\\lib\\site-packages (from yfinance) (1.1)\n",
      "Requirement already satisfied: pandas>=1.3.0 in c:\\users\\sahana\\anaconda3\\lib\\site-packages (from yfinance) (1.4.2)\n",
      "Requirement already satisfied: pytz>=2022.5 in c:\\users\\sahana\\anaconda3\\lib\\site-packages (from yfinance) (2024.1)\n",
      "Requirement already satisfied: beautifulsoup4>=4.11.1 in c:\\users\\sahana\\anaconda3\\lib\\site-packages (from yfinance) (4.11.1)\n",
      "Requirement already satisfied: soupsieve>1.2 in c:\\users\\sahana\\anaconda3\\lib\\site-packages (from beautifulsoup4>=4.11.1->yfinance) (2.3.1)\n",
      "Requirement already satisfied: webencodings in c:\\users\\sahana\\anaconda3\\lib\\site-packages (from html5lib>=1.1->yfinance) (0.5.1)\n",
      "Requirement already satisfied: six>=1.9 in c:\\users\\sahana\\anaconda3\\lib\\site-packages (from html5lib>=1.1->yfinance) (1.16.0)\n",
      "Requirement already satisfied: python-dateutil>=2.8.1 in c:\\users\\sahana\\anaconda3\\lib\\site-packages (from pandas>=1.3.0->yfinance) (2.8.2)\n",
      "Requirement already satisfied: certifi>=2017.4.17 in c:\\users\\sahana\\anaconda3\\lib\\site-packages (from requests>=2.31->yfinance) (2021.10.8)\n",
      "Requirement already satisfied: idna<4,>=2.5 in c:\\users\\sahana\\anaconda3\\lib\\site-packages (from requests>=2.31->yfinance) (3.3)\n",
      "Requirement already satisfied: urllib3<3,>=1.21.1 in c:\\users\\sahana\\anaconda3\\lib\\site-packages (from requests>=2.31->yfinance) (1.26.9)\n",
      "Requirement already satisfied: charset-normalizer<4,>=2 in c:\\users\\sahana\\anaconda3\\lib\\site-packages (from requests>=2.31->yfinance) (2.0.4)\n"
     ]
    }
   ],
   "source": [
    "pip install yfinance --upgrade --no-cache-dir"
   ]
  },
  {
   "cell_type": "code",
   "execution_count": 6,
   "id": "7460d6c0",
   "metadata": {},
   "outputs": [],
   "source": [
    "import pandas as pd\n",
    "import yfinance as yf\n",
    "from datetime import date, timedelta\n",
    "\n",
    "#Time Period of the data\n",
    "end_date = date.today().strftime(\"%Y-%m-%d\")\n",
    "start_date = (date.today()-timedelta(days=365)).strftime(\"%Y-%m-%d\")\n",
    "\n",
    "tickers = ['RELIANCE.NS','TCS.NS','INFY.NS','HDFCBANK.NS']\n",
    "\n",
    "data = yf.download(tickers, start=start_date, end=end_date,progress=False)\n",
    "#Index to bring date into columns\n",
    "data=data.reset_index()\n",
    "\n",
    "data_melted = data.melt(id_vars=['Date'], var_name=['Attribute', 'Ticker'])\n",
    "data_pivoted "
   ]
  },
  {
   "cell_type": "code",
   "execution_count": null,
   "id": "ba7d8419",
   "metadata": {},
   "outputs": [],
   "source": []
  }
 ],
 "metadata": {
  "kernelspec": {
   "display_name": "Python 3 (ipykernel)",
   "language": "python",
   "name": "python3"
  },
  "language_info": {
   "codemirror_mode": {
    "name": "ipython",
    "version": 3
   },
   "file_extension": ".py",
   "mimetype": "text/x-python",
   "name": "python",
   "nbconvert_exporter": "python",
   "pygments_lexer": "ipython3",
   "version": "3.9.12"
  }
 },
 "nbformat": 4,
 "nbformat_minor": 5
}
